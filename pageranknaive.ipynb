{
  "nbformat": 4,
  "nbformat_minor": 0,
  "metadata": {
    "colab": {
      "name": "pageranknaive.ipynb",
      "provenance": []
    },
    "kernelspec": {
      "name": "python3",
      "display_name": "Python 3"
    },
    "language_info": {
      "name": "python"
    }
  },
  "cells": [
    {
      "cell_type": "code",
      "metadata": {
        "colab": {
          "base_uri": "https://localhost:8080/"
        },
        "id": "B3o0W2lDH0mh",
        "outputId": "c7c64043-5331-4b85-dd24-09919d096064"
      },
      "source": [
        "import numpy as np\n",
        "\n",
        "\n",
        "a = np.array([[0, 0.75, 0.25],\n",
        "\n",
        "              \n",
        "\n",
        "              [0.9, 0, 0.1],\n",
        "\n",
        "\n",
        "\n",
        "              [0.7, 0.3, 0]])\n",
        "\n",
        "\n",
        "\n",
        "mod = np.array([[1/3, 1/3, 1/3],\n",
        "\n",
        "              \n",
        "\n",
        "              [1/3, 1/3, 1/3],\n",
        "\n",
        "\n",
        "\n",
        "              [1/3, 1/3, 1/3]])\n",
        "\n",
        "\n",
        "\n",
        "b = np.array([[0.5,0.25,0.25]])\n",
        "\n",
        "alpha = 1\n",
        "\n",
        "kaisu = 5\n",
        "\n",
        "akaisu = np.linalg.matrix_power(alpha*a+(1-alpha)*mod, kaisu)\n",
        "\n",
        "c1=np.dot(b, akaisu)\n",
        "\n",
        "\n",
        "print(c1)\n"
      ],
      "execution_count": 12,
      "outputs": [
        {
          "output_type": "stream",
          "name": "stdout",
          "text": [
            "[[0.42376 0.41628 0.15996]]\n"
          ]
        }
      ]
    },
    {
      "cell_type": "code",
      "metadata": {
        "colab": {
          "base_uri": "https://localhost:8080/"
        },
        "id": "Nj5CvRfPuWfr",
        "outputId": "b882ac7d-6049-4e8c-88bd-3b2408a40f52"
      },
      "source": [
        "import numpy as np\n",
        "\n",
        "\n",
        "a = np.array([[0, 0.9, 0.1],\n",
        "\n",
        "              \n",
        "\n",
        "              [0.9, 0, 0.1],\n",
        "\n",
        "\n",
        "\n",
        "              [0.5, 0.5, 0]])\n",
        "\n",
        "\n",
        "\n",
        "mod = np.array([[1/3, 1/3, 1/3],\n",
        "\n",
        "              \n",
        "\n",
        "              [1/3, 1/3, 1/3],\n",
        "\n",
        "\n",
        "\n",
        "              [1/3, 1/3, 1/3]])\n",
        "\n",
        "\n",
        "\n",
        "b = np.array([[0.5,0.25,0.25]])\n",
        "\n",
        "alpha = 1\n",
        "\n",
        "kaisu = 25\n",
        "\n",
        "akaisu = np.linalg.matrix_power(alpha*a+(1-alpha)*mod, kaisu)\n",
        "\n",
        "c1=np.dot(b, akaisu)\n",
        "\n",
        "\n",
        "print(c1)\n"
      ],
      "execution_count": 24,
      "outputs": [
        {
          "output_type": "stream",
          "name": "stdout",
          "text": [
            "[[0.44557173 0.46351918 0.09090909]]\n"
          ]
        }
      ]
    },
    {
      "cell_type": "code",
      "metadata": {
        "colab": {
          "base_uri": "https://localhost:8080/"
        },
        "id": "Em_-5LyLsSbD",
        "outputId": "161789e3-5544-4282-e073-675a24bec862"
      },
      "source": [
        "import numpy as np\n",
        "\n",
        "\n",
        "a = np.array([[0, 1, 0, 0, 0],\n",
        "\n",
        "              [1/2, 0, 1/2,0, 0],\n",
        "\n",
        "              [1/3, 0, 0, 1/3, 1/3],\n",
        "              \n",
        "              [1/2, 0, 0, 0, 1/2],\n",
        "\n",
        "              [1/3,1/3,0,1/3,0]         ])\n",
        "\n",
        "\n",
        "\n",
        "mod = np.array([[1/5, 1/5, 1/5, 1/5, 1/5],\n",
        "\n",
        "              [1/5, 1/5, 1/5,1/5, 1/5],\n",
        "\n",
        "              [1/5, 1/5, 1/5, 1/5, 1/5],\n",
        "              \n",
        "              [1/5, 1/5, 1/5, 1/5, 1/5],\n",
        "\n",
        "              [1/5,1/5,1/5,1/5,1/5]         ])\n",
        "\n",
        "\n",
        "\n",
        "b = np.array([[1,0,0,0,0]])\n",
        "\n",
        "alpha = 0.85\n",
        "\n",
        "kaisu = 10\n",
        "\n",
        "akaisu = np.linalg.matrix_power(alpha*a+(1-alpha)*mod, kaisu)\n",
        "\n",
        "c1=np.dot(b, akaisu)\n",
        "\n",
        "\n",
        "print(c1)"
      ],
      "execution_count": 19,
      "outputs": [
        {
          "output_type": "stream",
          "name": "stdout",
          "text": [
            "[[0.29208069 0.31043471 0.16401169 0.1104645  0.12300842]]\n"
          ]
        }
      ]
    }
  ]
}