{
  "nbformat": 4,
  "nbformat_minor": 0,
  "metadata": {
    "colab": {
      "name": "cyclegraph.ipynb",
      "provenance": []
    },
    "kernelspec": {
      "name": "python3",
      "display_name": "Python 3"
    }
  },
  "cells": [
    {
      "cell_type": "code",
      "metadata": {
        "colab": {
          "base_uri": "https://localhost:8080/",
          "height": 1000
        },
        "id": "8VjidWF8PevY",
        "outputId": "2a846ccb-86df-4d00-c4bb-12ffbd148127"
      },
      "source": [
        "import networkx as nx\n",
        "import matplotlib.pyplot as plt\n",
        "\n",
        "lists = []\n",
        "\n",
        "min=10\n",
        "\n",
        "max=50\n",
        "\n",
        "for i in range(min, max):\n",
        "   print(i)\n",
        "   cg = nx.cycle_graph(i)\n",
        "   lists.append(nx.average_shortest_path_length(cg))\n",
        "\n",
        "   nx.draw_circular(cg, node_size=10, node_color='red')\n",
        "   print(\"L =\", nx.average_shortest_path_length(cg))\n",
        "\n",
        "print(lists)\n"
      ],
      "execution_count": null,
      "outputs": [
        {
          "output_type": "stream",
          "text": [
            "10\n",
            "L = 2.7777777777777777\n",
            "11\n",
            "L = 3.0\n",
            "12\n",
            "L = 3.272727272727273\n",
            "13\n",
            "L = 3.5\n",
            "14\n",
            "L = 3.769230769230769\n",
            "15\n",
            "L = 4.0\n",
            "16\n",
            "L = 4.266666666666667\n",
            "17\n",
            "L = 4.5\n",
            "18\n",
            "L = 4.764705882352941\n",
            "19\n",
            "L = 5.0\n",
            "20\n",
            "L = 5.2631578947368425\n",
            "21\n",
            "L = 5.5\n",
            "22\n",
            "L = 5.761904761904762\n",
            "23\n",
            "L = 6.0\n",
            "24\n",
            "L = 6.260869565217392\n",
            "25\n",
            "L = 6.5\n",
            "26\n",
            "L = 6.76\n",
            "27\n",
            "L = 7.0\n",
            "28\n",
            "L = 7.2592592592592595\n",
            "29\n",
            "L = 7.5\n",
            "30\n",
            "L = 7.758620689655173\n",
            "31\n",
            "L = 8.0\n",
            "32\n",
            "L = 8.258064516129032\n",
            "33\n",
            "L = 8.5\n",
            "34\n",
            "L = 8.757575757575758\n",
            "35\n",
            "L = 9.0\n",
            "36\n",
            "L = 9.257142857142858\n",
            "37\n",
            "L = 9.5\n",
            "38\n",
            "L = 9.756756756756756\n",
            "39\n",
            "L = 10.0\n",
            "40\n",
            "L = 10.256410256410257\n",
            "41\n",
            "L = 10.5\n",
            "42\n",
            "L = 10.75609756097561\n",
            "43\n",
            "L = 11.0\n",
            "44\n",
            "L = 11.255813953488373\n",
            "45\n",
            "L = 11.5\n",
            "46\n",
            "L = 11.755555555555556\n",
            "47\n",
            "L = 12.0\n",
            "48\n",
            "L = 12.25531914893617\n",
            "49\n",
            "L = 12.5\n",
            "[2.7777777777777777, 3.0, 3.272727272727273, 3.5, 3.769230769230769, 4.0, 4.266666666666667, 4.5, 4.764705882352941, 5.0, 5.2631578947368425, 5.5, 5.761904761904762, 6.0, 6.260869565217392, 6.5, 6.76, 7.0, 7.2592592592592595, 7.5, 7.758620689655173, 8.0, 8.258064516129032, 8.5, 8.757575757575758, 9.0, 9.257142857142858, 9.5, 9.756756756756756, 10.0, 10.256410256410257, 10.5, 10.75609756097561, 11.0, 11.255813953488373, 11.5, 11.755555555555556, 12.0, 12.25531914893617, 12.5]\n"
          ],
          "name": "stdout"
        },
        {
          "output_type": "display_data",
          "data": {
            "image/png": "[encoded data removed]",
            "text/plain": [
              "<Figure size 432x288 with 1 Axes>"
            ]
          },
          "metadata": {
            "tags": []
          }
        }
      ]
    },
    {
      "cell_type": "code",
      "metadata": {
        "colab": {
          "base_uri": "https://localhost:8080/"
        },
        "id": "_RWf-AAqVbTJ",
        "outputId": "3abf45e8-b94c-4032-ca1e-5f37eba1c863"
      },
      "source": [
        "import numpy as np\n",
        "\n",
        "list_a=[]\n",
        "for i in range(min , max):\n",
        "   list_a.append(i)\n",
        "\n",
        "print(list_a)"
      ],
      "execution_count": null,
      "outputs": [
        {
          "output_type": "stream",
          "text": [
            "[10, 11, 12, 13, 14, 15, 16, 17, 18, 19, 20, 21, 22, 23, 24, 25, 26, 27, 28, 29, 30, 31, 32, 33, 34, 35, 36, 37, 38, 39, 40, 41, 42, 43, 44, 45, 46, 47, 48, 49]\n"
          ],
          "name": "stdout"
        }
      ]
    },
    {
      "cell_type": "code",
      "metadata": {
        "colab": {
          "base_uri": "https://localhost:8080/",
          "height": 1000
        },
        "id": "uQ6neBzCV1FO",
        "outputId": "be201553-57af-42b7-f5ec-1f48e08f7718"
      },
      "source": [
        "import pandas as pd\n",
        "df = pd.DataFrame(\n",
        "    list_a\n",
        ")\n",
        "df[1] =lists\n",
        "\n",
        "df.columns = ['totalnumberofsites','meangraphdistance']\n",
        "\n",
        "df"
      ],
      "execution_count": null,
      "outputs": [
        {
          "output_type": "execute_result",
          "data": {
            "text/html": [
              "<div>\n",
              "<style scoped>\n",
              "    .dataframe tbody tr th:only-of-type {\n",
              "        vertical-align: middle;\n",
              "    }\n",
              "\n",
              "    .dataframe tbody tr th {\n",
              "        vertical-align: top;\n",
              "    }\n",
              "\n",
              "    .dataframe thead th {\n",
              "        text-align: right;\n",
              "    }\n",
              "</style>\n",
              "<table border=\"1\" class=\"dataframe\">\n",
              "  <thead>\n",
              "    <tr style=\"text-align: right;\">\n",
              "      <th></th>\n",
              "      <th>totalnumberofsites</th>\n",
              "      <th>meangraphdistance</th>\n",
              "    </tr>\n",
              "  </thead>\n",
              "  <tbody>\n",
              "    <tr>\n",
              "      <th>0</th>\n",
              "      <td>10</td>\n",
              "      <td>2.777778</td>\n",
              "    </tr>\n",
              "    <tr>\n",
              "      <th>1</th>\n",
              "      <td>11</td>\n",
              "      <td>3.000000</td>\n",
              "    </tr>\n",
              "    <tr>\n",
              "      <th>2</th>\n",
              "      <td>12</td>\n",
              "      <td>3.272727</td>\n",
              "    </tr>\n",
              "    <tr>\n",
              "      <th>3</th>\n",
              "      <td>13</td>\n",
              "      <td>3.500000</td>\n",
              "    </tr>\n",
              "    <tr>\n",
              "      <th>4</th>\n",
              "      <td>14</td>\n",
              "      <td>3.769231</td>\n",
              "    </tr>\n",
              "    <tr>\n",
              "      <th>5</th>\n",
              "      <td>15</td>\n",
              "      <td>4.000000</td>\n",
              "    </tr>\n",
              "    <tr>\n",
              "      <th>6</th>\n",
              "      <td>16</td>\n",
              "      <td>4.266667</td>\n",
              "    </tr>\n",
              "    <tr>\n",
              "      <th>7</th>\n",
              "      <td>17</td>\n",
              "      <td>4.500000</td>\n",
              "    </tr>\n",
              "    <tr>\n",
              "      <th>8</th>\n",
              "      <td>18</td>\n",
              "      <td>4.764706</td>\n",
              "    </tr>\n",
              "    <tr>\n",
              "      <th>9</th>\n",
              "      <td>19</td>\n",
              "      <td>5.000000</td>\n",
              "    </tr>\n",
              "    <tr>\n",
              "      <th>10</th>\n",
              "      <td>20</td>\n",
              "      <td>5.263158</td>\n",
              "    </tr>\n",
              "    <tr>\n",
              "      <th>11</th>\n",
              "      <td>21</td>\n",
              "      <td>5.500000</td>\n",
              "    </tr>\n",
              "    <tr>\n",
              "      <th>12</th>\n",
              "      <td>22</td>\n",
              "      <td>5.761905</td>\n",
              "    </tr>\n",
              "    <tr>\n",
              "      <th>13</th>\n",
              "      <td>23</td>\n",
              "      <td>6.000000</td>\n",
              "    </tr>\n",
              "    <tr>\n",
              "      <th>14</th>\n",
              "      <td>24</td>\n",
              "      <td>6.260870</td>\n",
              "    </tr>\n",
              "    <tr>\n",
              "      <th>15</th>\n",
              "      <td>25</td>\n",
              "      <td>6.500000</td>\n",
              "    </tr>\n",
              "    <tr>\n",
              "      <th>16</th>\n",
              "      <td>26</td>\n",
              "      <td>6.760000</td>\n",
              "    </tr>\n",
              "    <tr>\n",
              "      <th>17</th>\n",
              "      <td>27</td>\n",
              "      <td>7.000000</td>\n",
              "    </tr>\n",
              "    <tr>\n",
              "      <th>18</th>\n",
              "      <td>28</td>\n",
              "      <td>7.259259</td>\n",
              "    </tr>\n",
              "    <tr>\n",
              "      <th>19</th>\n",
              "      <td>29</td>\n",
              "      <td>7.500000</td>\n",
              "    </tr>\n",
              "    <tr>\n",
              "      <th>20</th>\n",
              "      <td>30</td>\n",
              "      <td>7.758621</td>\n",
              "    </tr>\n",
              "    <tr>\n",
              "      <th>21</th>\n",
              "      <td>31</td>\n",
              "      <td>8.000000</td>\n",
              "    </tr>\n",
              "    <tr>\n",
              "      <th>22</th>\n",
              "      <td>32</td>\n",
              "      <td>8.258065</td>\n",
              "    </tr>\n",
              "    <tr>\n",
              "      <th>23</th>\n",
              "      <td>33</td>\n",
              "      <td>8.500000</td>\n",
              "    </tr>\n",
              "    <tr>\n",
              "      <th>24</th>\n",
              "      <td>34</td>\n",
              "      <td>8.757576</td>\n",
              "    </tr>\n",
              "    <tr>\n",
              "      <th>25</th>\n",
              "      <td>35</td>\n",
              "      <td>9.000000</td>\n",
              "    </tr>\n",
              "    <tr>\n",
              "      <th>26</th>\n",
              "      <td>36</td>\n",
              "      <td>9.257143</td>\n",
              "    </tr>\n",
              "    <tr>\n",
              "      <th>27</th>\n",
              "      <td>37</td>\n",
              "      <td>9.500000</td>\n",
              "    </tr>\n",
              "    <tr>\n",
              "      <th>28</th>\n",
              "      <td>38</td>\n",
              "      <td>9.756757</td>\n",
              "    </tr>\n",
              "    <tr>\n",
              "      <th>29</th>\n",
              "      <td>39</td>\n",
              "      <td>10.000000</td>\n",
              "    </tr>\n",
              "    <tr>\n",
              "      <th>30</th>\n",
              "      <td>40</td>\n",
              "      <td>10.256410</td>\n",
              "    </tr>\n",
              "    <tr>\n",
              "      <th>31</th>\n",
              "      <td>41</td>\n",
              "      <td>10.500000</td>\n",
              "    </tr>\n",
              "    <tr>\n",
              "      <th>32</th>\n",
              "      <td>42</td>\n",
              "      <td>10.756098</td>\n",
              "    </tr>\n",
              "    <tr>\n",
              "      <th>33</th>\n",
              "      <td>43</td>\n",
              "      <td>11.000000</td>\n",
              "    </tr>\n",
              "    <tr>\n",
              "      <th>34</th>\n",
              "      <td>44</td>\n",
              "      <td>11.255814</td>\n",
              "    </tr>\n",
              "    <tr>\n",
              "      <th>35</th>\n",
              "      <td>45</td>\n",
              "      <td>11.500000</td>\n",
              "    </tr>\n",
              "    <tr>\n",
              "      <th>36</th>\n",
              "      <td>46</td>\n",
              "      <td>11.755556</td>\n",
              "    </tr>\n",
              "    <tr>\n",
              "      <th>37</th>\n",
              "      <td>47</td>\n",
              "      <td>12.000000</td>\n",
              "    </tr>\n",
              "    <tr>\n",
              "      <th>38</th>\n",
              "      <td>48</td>\n",
              "      <td>12.255319</td>\n",
              "    </tr>\n",
              "    <tr>\n",
              "      <th>39</th>\n",
              "      <td>49</td>\n",
              "      <td>12.500000</td>\n",
              "    </tr>\n",
              "  </tbody>\n",
              "</table>\n",
              "</div>"
            ],
            "text/plain": [
              "    totalnumberofsites  meangraphdistance\n",
              "0                   10           2.777778\n",
              "1                   11           3.000000\n",
              "2                   12           3.272727\n",
              "3                   13           3.500000\n",
              "4                   14           3.769231\n",
              "5                   15           4.000000\n",
              "6                   16           4.266667\n",
              "7                   17           4.500000\n",
              "8                   18           4.764706\n",
              "9                   19           5.000000\n",
              "10                  20           5.263158\n",
              "11                  21           5.500000\n",
              "12                  22           5.761905\n",
              "13                  23           6.000000\n",
              "14                  24           6.260870\n",
              "15                  25           6.500000\n",
              "16                  26           6.760000\n",
              "17                  27           7.000000\n",
              "18                  28           7.259259\n",
              "19                  29           7.500000\n",
              "20                  30           7.758621\n",
              "21                  31           8.000000\n",
              "22                  32           8.258065\n",
              "23                  33           8.500000\n",
              "24                  34           8.757576\n",
              "25                  35           9.000000\n",
              "26                  36           9.257143\n",
              "27                  37           9.500000\n",
              "28                  38           9.756757\n",
              "29                  39          10.000000\n",
              "30                  40          10.256410\n",
              "31                  41          10.500000\n",
              "32                  42          10.756098\n",
              "33                  43          11.000000\n",
              "34                  44          11.255814\n",
              "35                  45          11.500000\n",
              "36                  46          11.755556\n",
              "37                  47          12.000000\n",
              "38                  48          12.255319\n",
              "39                  49          12.500000"
            ]
          },
          "metadata": {
            "tags": []
          },
          "execution_count": 11
        }
      ]
    },
    {
      "cell_type": "code",
      "metadata": {
        "colab": {
          "base_uri": "https://localhost:8080/",
          "height": 545
        },
        "id": "eRQ_l3YMV9OX",
        "outputId": "68dc10d2-1a51-4ae1-a663-cc6c97b23805"
      },
      "source": [
        "import numpy\n",
        "import pandas\n",
        "import matplotlib.pyplot as plt\n",
        "df.plot()\n",
        "df.plot.scatter(x='totalnumberofsites', y='meangraphdistance')"
      ],
      "execution_count": null,
      "outputs": [
        {
          "output_type": "execute_result",
          "data": {
            "text/plain": [
              "<matplotlib.axes._subplots.AxesSubplot at 0x7fe272c72198>"
            ]
          },
          "metadata": {
            "tags": []
          },
          "execution_count": 12
        },
        {
          "output_type": "display_data",
          "data": {
            "image/png": "[encoded data removed]",
            "text/plain": [
              "<Figure size 432x288 with 1 Axes>"
            ]
          },
          "metadata": {
            "tags": [],
            "needs_background": "light"
          }
        },
        {
          "output_type": "display_data",
          "data": {
            "image/png": "[encoded data removed]",
            "text/plain": [
              "<Figure size 432x288 with 1 Axes>"
            ]
          },
          "metadata": {
            "tags": [],
            "needs_background": "light"
          }
        }
      ]
    },
    {
      "cell_type": "code",
      "metadata": {
        "colab": {
          "base_uri": "https://localhost:8080/"
        },
        "id": "4SVr-DU8WCNw",
        "outputId": "34937fa2-dc5b-4c02-8ec8-93fb7c40957f"
      },
      "source": [
        "from sklearn.linear_model import LinearRegression\n",
        "\n",
        "mod = LinearRegression(fit_intercept = True)\n",
        "lm = mod.fit(df[[\"totalnumberofsites\"]], df[[\"meangraphdistance\"]])\n",
        "print(lm)\n",
        " \n",
        "print(mod.coef_)\n",
        "print(mod.intercept_)\n",
        "\n",
        "slope =  mod.coef_[0,0]\n",
        "print(slope)\n",
        "\n",
        "interception = mod.intercept_[0]\n",
        "\n",
        "print(interception)"
      ],
      "execution_count": null,
      "outputs": [
        {
          "output_type": "stream",
          "text": [
            "LinearRegression(copy_X=True, fit_intercept=True, n_jobs=None, normalize=False)\n",
            "[[0.24974217]]\n",
            "[0.26319734]\n",
            "0.24974217228494788\n",
            "0.2631973401565171\n"
          ],
          "name": "stdout"
        }
      ]
    },
    {
      "cell_type": "code",
      "metadata": {
        "colab": {
          "base_uri": "https://localhost:8080/",
          "height": 315
        },
        "id": "zGMP_piVWIlI",
        "outputId": "5e150dcf-9d4d-4032-b945-28b5594add4a"
      },
      "source": [
        "x = np.linspace( 0, 50, 10)   \n",
        "y = slope * x + interception\n",
        "df.plot.scatter(x='totalnumberofsites', y='meangraphdistance',color=\"b\")\n",
        "plt.plot(x, y,color=\"r\")\n",
        "plt.legend()"
      ],
      "execution_count": null,
      "outputs": [
        {
          "output_type": "stream",
          "text": [
            "No handles with labels found to put in legend.\n"
          ],
          "name": "stderr"
        },
        {
          "output_type": "execute_result",
          "data": {
            "text/plain": [
              "<matplotlib.legend.Legend at 0x7fe26b77a588>"
            ]
          },
          "metadata": {
            "tags": []
          },
          "execution_count": 15
        },
        {
          "output_type": "display_data",
          "data": {
            "image/png": "[encoded data removed]",
            "text/plain": [
              "<Figure size 432x288 with 1 Axes>"
            ]
          },
          "metadata": {
            "tags": [],
            "needs_background": "light"
          }
        }
      ]
    }
  ]
}