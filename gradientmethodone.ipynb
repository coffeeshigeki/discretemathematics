{
  "nbformat": 4,
  "nbformat_minor": 0,
  "metadata": {
    "colab": {
      "name": "gradientmethodone.ipynb",
      "provenance": []
    },
    "kernelspec": {
      "name": "python3",
      "display_name": "Python 3"
    },
    "language_info": {
      "name": "python"
    }
  },
  "cells": [
    {
      "cell_type": "code",
      "metadata": {
        "colab": {
          "base_uri": "https://localhost:8080/"
        },
        "id": "ZUM2ik75IR87",
        "outputId": "36bdd552-460b-4aec-d55b-cdb737e75a40"
      },
      "source": [
        "import numpy as np\n",
        "\n",
        "\n",
        "xlist = np.array([1, 1.5, 2,2.5,3])\n",
        "\n",
        "ylist = np.array([1.7, 2.9, 3.9,4.5, 6.2])\n",
        "\n",
        "\n",
        "w1=np.dot(xlist, xlist)\n",
        "\n",
        "w2=np.dot(xlist, ylist)\n",
        "\n",
        "print(w1)\n",
        "\n",
        "print(w2)"
      ],
      "execution_count": 20,
      "outputs": [
        {
          "output_type": "stream",
          "name": "stdout",
          "text": [
            "22.5\n",
            "43.7\n"
          ]
        }
      ]
    },
    {
      "cell_type": "code",
      "metadata": {
        "colab": {
          "base_uri": "https://localhost:8080/"
        },
        "id": "5EcyLKJHJU01",
        "outputId": "dc783c97-7363-4e8c-bc09-6658c5595208"
      },
      "source": [
        "n = 1001\n",
        "\n",
        "eta = 0.001\n",
        "\n",
        "K_0 = 10\n",
        "\n",
        "K = np.empty(n)\n",
        "\n",
        "K[0] = K_0\n",
        "\n",
        " \n",
        "for i in range(n-1):\n",
        "    K[i+1] = K[i] - eta*(2*w1*K[i]-2*w2)\n",
        "\n",
        "print(K[1000])"
      ],
      "execution_count": 21,
      "outputs": [
        {
          "output_type": "stream",
          "name": "stdout",
          "text": [
            "1.9422222222222245\n"
          ]
        }
      ]
    }
  ]
}