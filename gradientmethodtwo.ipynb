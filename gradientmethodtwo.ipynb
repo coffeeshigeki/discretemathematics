{
  "nbformat": 4,
  "nbformat_minor": 0,
  "metadata": {
    "colab": {
      "name": "gradientmethodtwo.ipynb",
      "provenance": []
    },
    "kernelspec": {
      "name": "python3",
      "display_name": "Python 3"
    },
    "language_info": {
      "name": "python"
    }
  },
  "cells": [
    {
      "cell_type": "code",
      "metadata": {
        "colab": {
          "base_uri": "https://localhost:8080/"
        },
        "id": "iBCWiURzNrvx",
        "outputId": "7b0cd3a4-0e58-49ab-8d0e-07432b786a9e"
      },
      "source": [
        "import numpy as np\n",
        "\n",
        "\n",
        "xlist = np.array([1, 1.5, 2,2.5,3])\n",
        "\n",
        "ylist = np.array([1.7, 2.9, 3.9,4.5, 6.2])\n",
        "\n",
        "\n",
        "w1=np.dot(xlist, xlist)\n",
        "\n",
        "w2=np.dot(xlist, ylist)\n",
        "\n",
        "print(w1)\n",
        "\n",
        "print(w2)\n",
        "\n",
        "w3=np.sum(xlist, axis=0)\n",
        "\n",
        "w4=np.sum(ylist, axis=0)\n",
        "\n",
        "w5=xlist.shape[0]\n",
        "\n",
        "print(w3)\n",
        "\n",
        "print(w4)\n",
        "\n",
        "print(w5)"
      ],
      "execution_count": 9,
      "outputs": [
        {
          "output_type": "stream",
          "name": "stdout",
          "text": [
            "22.5\n",
            "43.7\n",
            "10.0\n",
            "19.2\n",
            "5\n"
          ]
        }
      ]
    },
    {
      "cell_type": "code",
      "metadata": {
        "colab": {
          "base_uri": "https://localhost:8080/"
        },
        "id": "xu8GEVRFOSTb",
        "outputId": "486dcc71-f63e-4311-8655-b69a21729db3"
      },
      "source": [
        "n = 100001\n",
        "\n",
        "eta = 0.001\n",
        "\n",
        "K_0 = 10\n",
        "L_0 = 10\n",
        "\n",
        "K = np.empty(n)\n",
        "\n",
        "L = np.empty(n)\n",
        "\n",
        "K[0] = K_0\n",
        "\n",
        "L[0] = L_0\n",
        "\n",
        " \n",
        "for i in range(n-1):\n",
        "    K[i+1] = K[i] - eta*(2*w1*K[i]+2*w3*L[i]-2*w2)\n",
        "    L[i+1] = L[i] - eta*(2*w3*K[i]+2*w5*L[i]-2*w4)\n",
        "\n",
        "print(K[100000])\n",
        "print(L[100000])"
      ],
      "execution_count": 18,
      "outputs": [
        {
          "output_type": "stream",
          "name": "stdout",
          "text": [
            "2.1199999999999486\n",
            "-0.3999999999998945\n"
          ]
        }
      ]
    }
  ]
}